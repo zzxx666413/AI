{
  "nbformat": 4,
  "nbformat_minor": 0,
  "metadata": {
    "colab": {
      "name": "3.keras_mnist.ipynb",
      "provenance": [],
      "collapsed_sections": [],
      "authorship_tag": "ABX9TyNEgnlWSnmK42jBSwAE3E6i",
      "include_colab_link": true
    },
    "kernelspec": {
      "name": "python3",
      "display_name": "Python 3"
    },
    "language_info": {
      "name": "python"
    },
    "accelerator": "GPU"
  },
  "cells": [
    {
      "cell_type": "markdown",
      "metadata": {
        "id": "view-in-github",
        "colab_type": "text"
      },
      "source": [
        "<a href=\"https://colab.research.google.com/github/zzxx666413/AI/blob/main/3.keras_mnist.ipynb\" target=\"_parent\"><img src=\"https://colab.research.google.com/assets/colab-badge.svg\" alt=\"Open In Colab\"/></a>"
      ]
    },
    {
      "cell_type": "markdown",
      "source": [
        "Flatten向下壓平"
      ],
      "metadata": {
        "id": "u2ptH2m4C7N6"
      }
    },
    {
      "cell_type": "code",
      "execution_count": 1,
      "metadata": {
        "id": "MKEL19B1mKji"
      },
      "outputs": [],
      "source": [
        "from tensorflow import keras\n",
        "from keras.models import Sequential\n",
        "from keras.layers import Dense,Flatten\n",
        "model=Sequential()\n",
        "model.add(Flatten())\n",
        "model.add(Dense(32,activation='relu',input_dim=784))\n",
        "model.add(Dense(10,activation='sigmoid'))\n",
        "model.compile(optimizer='rmsprop',loss='sparse_categorical_crossentropy',metrics=['accuracy'])"
      ]
    },
    {
      "cell_type": "markdown",
      "source": [
        "mnist建立手寫運算<br>\n"
      ],
      "metadata": {
        "id": "zniUEdsE-H6Q"
      }
    },
    {
      "cell_type": "code",
      "source": [
        "mnist=keras.datasets.mnist\n",
        "(train_data,train_label),(test_data,test_label) = mnist.load_data()\n",
        "#print(type(train_data))\n",
        "#print(train_data.shape)\n",
        "#print(type(train_label))\n",
        "#print(train_label.shape)\n",
        "#print(test_data.shape)\n",
        "#print(test_label.shape)"
      ],
      "metadata": {
        "id": "kNG0kc1Itdgp",
        "colab": {
          "base_uri": "https://localhost:8080/"
        },
        "outputId": "abb8fa57-3496-46ca-f19d-427fbf61b3c5"
      },
      "execution_count": 2,
      "outputs": [
        {
          "output_type": "stream",
          "name": "stdout",
          "text": [
            "Downloading data from https://storage.googleapis.com/tensorflow/tf-keras-datasets/mnist.npz\n",
            "11493376/11490434 [==============================] - 0s 0us/step\n",
            "11501568/11490434 [==============================] - 0s 0us/step\n"
          ]
        }
      ]
    },
    {
      "cell_type": "code",
      "source": [
        "print(train_label[0])\n",
        "print(train_data[0])"
      ],
      "metadata": {
        "colab": {
          "base_uri": "https://localhost:8080/"
        },
        "id": "Cy8nllSOcsQD",
        "outputId": "7f84c098-15ed-45bf-e2bb-d942504d922a"
      },
      "execution_count": 3,
      "outputs": [
        {
          "output_type": "stream",
          "name": "stdout",
          "text": [
            "5\n",
            "[[  0   0   0   0   0   0   0   0   0   0   0   0   0   0   0   0   0   0\n",
            "    0   0   0   0   0   0   0   0   0   0]\n",
            " [  0   0   0   0   0   0   0   0   0   0   0   0   0   0   0   0   0   0\n",
            "    0   0   0   0   0   0   0   0   0   0]\n",
            " [  0   0   0   0   0   0   0   0   0   0   0   0   0   0   0   0   0   0\n",
            "    0   0   0   0   0   0   0   0   0   0]\n",
            " [  0   0   0   0   0   0   0   0   0   0   0   0   0   0   0   0   0   0\n",
            "    0   0   0   0   0   0   0   0   0   0]\n",
            " [  0   0   0   0   0   0   0   0   0   0   0   0   0   0   0   0   0   0\n",
            "    0   0   0   0   0   0   0   0   0   0]\n",
            " [  0   0   0   0   0   0   0   0   0   0   0   0   3  18  18  18 126 136\n",
            "  175  26 166 255 247 127   0   0   0   0]\n",
            " [  0   0   0   0   0   0   0   0  30  36  94 154 170 253 253 253 253 253\n",
            "  225 172 253 242 195  64   0   0   0   0]\n",
            " [  0   0   0   0   0   0   0  49 238 253 253 253 253 253 253 253 253 251\n",
            "   93  82  82  56  39   0   0   0   0   0]\n",
            " [  0   0   0   0   0   0   0  18 219 253 253 253 253 253 198 182 247 241\n",
            "    0   0   0   0   0   0   0   0   0   0]\n",
            " [  0   0   0   0   0   0   0   0  80 156 107 253 253 205  11   0  43 154\n",
            "    0   0   0   0   0   0   0   0   0   0]\n",
            " [  0   0   0   0   0   0   0   0   0  14   1 154 253  90   0   0   0   0\n",
            "    0   0   0   0   0   0   0   0   0   0]\n",
            " [  0   0   0   0   0   0   0   0   0   0   0 139 253 190   2   0   0   0\n",
            "    0   0   0   0   0   0   0   0   0   0]\n",
            " [  0   0   0   0   0   0   0   0   0   0   0  11 190 253  70   0   0   0\n",
            "    0   0   0   0   0   0   0   0   0   0]\n",
            " [  0   0   0   0   0   0   0   0   0   0   0   0  35 241 225 160 108   1\n",
            "    0   0   0   0   0   0   0   0   0   0]\n",
            " [  0   0   0   0   0   0   0   0   0   0   0   0   0  81 240 253 253 119\n",
            "   25   0   0   0   0   0   0   0   0   0]\n",
            " [  0   0   0   0   0   0   0   0   0   0   0   0   0   0  45 186 253 253\n",
            "  150  27   0   0   0   0   0   0   0   0]\n",
            " [  0   0   0   0   0   0   0   0   0   0   0   0   0   0   0  16  93 252\n",
            "  253 187   0   0   0   0   0   0   0   0]\n",
            " [  0   0   0   0   0   0   0   0   0   0   0   0   0   0   0   0   0 249\n",
            "  253 249  64   0   0   0   0   0   0   0]\n",
            " [  0   0   0   0   0   0   0   0   0   0   0   0   0   0  46 130 183 253\n",
            "  253 207   2   0   0   0   0   0   0   0]\n",
            " [  0   0   0   0   0   0   0   0   0   0   0   0  39 148 229 253 253 253\n",
            "  250 182   0   0   0   0   0   0   0   0]\n",
            " [  0   0   0   0   0   0   0   0   0   0  24 114 221 253 253 253 253 201\n",
            "   78   0   0   0   0   0   0   0   0   0]\n",
            " [  0   0   0   0   0   0   0   0  23  66 213 253 253 253 253 198  81   2\n",
            "    0   0   0   0   0   0   0   0   0   0]\n",
            " [  0   0   0   0   0   0  18 171 219 253 253 253 253 195  80   9   0   0\n",
            "    0   0   0   0   0   0   0   0   0   0]\n",
            " [  0   0   0   0  55 172 226 253 253 253 253 244 133  11   0   0   0   0\n",
            "    0   0   0   0   0   0   0   0   0   0]\n",
            " [  0   0   0   0 136 253 253 253 212 135 132  16   0   0   0   0   0   0\n",
            "    0   0   0   0   0   0   0   0   0   0]\n",
            " [  0   0   0   0   0   0   0   0   0   0   0   0   0   0   0   0   0   0\n",
            "    0   0   0   0   0   0   0   0   0   0]\n",
            " [  0   0   0   0   0   0   0   0   0   0   0   0   0   0   0   0   0   0\n",
            "    0   0   0   0   0   0   0   0   0   0]\n",
            " [  0   0   0   0   0   0   0   0   0   0   0   0   0   0   0   0   0   0\n",
            "    0   0   0   0   0   0   0   0   0   0]]\n"
          ]
        }
      ]
    },
    {
      "cell_type": "code",
      "source": [
        "import matplotlib.pyplot as plt\n",
        "plt.imshow(train_data[0],cmap ='binary')\n",
        "plt.show()"
      ],
      "metadata": {
        "colab": {
          "base_uri": "https://localhost:8080/",
          "height": 265
        },
        "id": "RkwJAHk3zhda",
        "outputId": "5d306d97-6a19-49d1-88cf-1312fea949a1"
      },
      "execution_count": 4,
      "outputs": [
        {
          "output_type": "display_data",
          "data": {
            "text/plain": [
              "<Figure size 432x288 with 1 Axes>"
            ],
            "image/png": "[encoded data removed]"
          },
          "metadata": {
            "needs_background": "light"
          }
        }
      ]
    },
    {
      "cell_type": "code",
      "source": [
        "model.fit(train_data,train_label,epochs=20,batch_size=512)"
      ],
      "metadata": {
        "colab": {
          "base_uri": "https://localhost:8080/"
        },
        "id": "C8CVV8KW0Ijz",
        "outputId": "36c0bb35-af20-4b3e-f665-873352a9d06a"
      },
      "execution_count": 5,
      "outputs": [
        {
          "output_type": "stream",
          "name": "stdout",
          "text": [
            "Epoch 1/20\n",
            "118/118 [==============================] - 5s 5ms/step - loss: 7.6612 - accuracy: 0.4276\n",
            "Epoch 2/20\n",
            "118/118 [==============================] - 1s 7ms/step - loss: 1.0111 - accuracy: 0.7370\n",
            "Epoch 3/20\n",
            "118/118 [==============================] - 1s 7ms/step - loss: 0.7384 - accuracy: 0.8390\n",
            "Epoch 4/20\n",
            "118/118 [==============================] - 1s 6ms/step - loss: 0.6098 - accuracy: 0.8674\n",
            "Epoch 5/20\n",
            "118/118 [==============================] - 1s 6ms/step - loss: 0.4928 - accuracy: 0.8814\n",
            "Epoch 6/20\n",
            "118/118 [==============================] - 1s 6ms/step - loss: 0.4019 - accuracy: 0.8975\n",
            "Epoch 7/20\n",
            "118/118 [==============================] - 1s 6ms/step - loss: 0.3463 - accuracy: 0.9093\n",
            "Epoch 8/20\n",
            "118/118 [==============================] - 1s 7ms/step - loss: 0.3060 - accuracy: 0.9194\n",
            "Epoch 9/20\n",
            "118/118 [==============================] - 1s 6ms/step - loss: 0.2796 - accuracy: 0.9242\n",
            "Epoch 10/20\n",
            "118/118 [==============================] - 1s 5ms/step - loss: 0.2523 - accuracy: 0.9307\n",
            "Epoch 11/20\n",
            "118/118 [==============================] - 1s 7ms/step - loss: 0.2332 - accuracy: 0.9347\n",
            "Epoch 12/20\n",
            "118/118 [==============================] - 1s 6ms/step - loss: 0.2197 - accuracy: 0.9394\n",
            "Epoch 13/20\n",
            "118/118 [==============================] - 1s 6ms/step - loss: 0.2047 - accuracy: 0.9419\n",
            "Epoch 14/20\n",
            "118/118 [==============================] - 0s 4ms/step - loss: 0.1933 - accuracy: 0.9449\n",
            "Epoch 15/20\n",
            "118/118 [==============================] - 0s 4ms/step - loss: 0.1843 - accuracy: 0.9473\n",
            "Epoch 16/20\n",
            "118/118 [==============================] - 0s 4ms/step - loss: 0.1778 - accuracy: 0.9496\n",
            "Epoch 17/20\n",
            "118/118 [==============================] - 0s 4ms/step - loss: 0.1732 - accuracy: 0.9513\n",
            "Epoch 18/20\n",
            "118/118 [==============================] - 0s 4ms/step - loss: 0.1647 - accuracy: 0.9524\n",
            "Epoch 19/20\n",
            "118/118 [==============================] - 0s 4ms/step - loss: 0.1574 - accuracy: 0.9545\n",
            "Epoch 20/20\n",
            "118/118 [==============================] - 0s 4ms/step - loss: 0.1506 - accuracy: 0.9559\n"
          ]
        },
        {
          "output_type": "execute_result",
          "data": {
            "text/plain": [
              "<keras.callbacks.History at 0x7f9c6bf4ab10>"
            ]
          },
          "metadata": {},
          "execution_count": 5
        }
      ]
    },
    {
      "cell_type": "code",
      "source": [
        "score=model.evaluate(test_data,test_label)\n",
        "print(score[1])"
      ],
      "metadata": {
        "colab": {
          "base_uri": "https://localhost:8080/"
        },
        "id": "jJW_ZdXNGNIR",
        "outputId": "f9486ef9-da2b-40b3-ed69-26b4ec446cc0"
      },
      "execution_count": 6,
      "outputs": [
        {
          "output_type": "stream",
          "name": "stdout",
          "text": [
            "313/313 [==============================] - 1s 3ms/step - loss: 0.3416 - accuracy: 0.9303\n",
            "0.9302999973297119\n"
          ]
        }
      ]
    }
  ]
}