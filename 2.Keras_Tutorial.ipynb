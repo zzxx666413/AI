{
  "nbformat": 4,
  "nbformat_minor": 0,
  "metadata": {
    "colab": {
      "name": "2.Keras_Tutorial.ipynb",
      "provenance": [],
      "collapsed_sections": [],
      "authorship_tag": "ABX9TyMed5dXJrb/KcELcVJ+V7ZY",
      "include_colab_link": true
    },
    "kernelspec": {
      "name": "python3",
      "display_name": "Python 3"
    },
    "language_info": {
      "name": "python"
    }
  },
  "cells": [
    {
      "cell_type": "markdown",
      "metadata": {
        "id": "view-in-github",
        "colab_type": "text"
      },
      "source": [
        "<a href=\"https://colab.research.google.com/github/zzxx666413/AI/blob/main/2.Keras_Tutorial.ipynb\" target=\"_parent\"><img src=\"https://colab.research.google.com/assets/colab-badge.svg\" alt=\"Open In Colab\"/></a>"
      ]
    },
    {
      "cell_type": "markdown",
      "source": [
        "**Keras深度學習初體驗1**<br>\n",
        "利用keras套件，產生一個32個神經元的深度學習模型進行訓練"
      ],
      "metadata": {
        "id": "x5J74wvtboLh"
      }
    },
    {
      "cell_type": "markdown",
      "source": [
        "**1.建立模型**<br>\n",
        "Sequential順序模型<br>\n",
        "Dense神經元運算次數<br>\n",
        "activation運算模型(relu,sigmoid)<br>\n",
        "loss='binary_crossentropy'(損失函數) binary二進位(0,1)<br>\n",
        "accuracy正確性"
      ],
      "metadata": {
        "id": "AqeG3AQB3mjC"
      }
    },
    {
      "cell_type": "code",
      "execution_count": 1,
      "metadata": {
        "colab": {
          "base_uri": "https://localhost:8080/"
        },
        "id": "MKEL19B1mKji",
        "outputId": "e27e4020-6169-4dc4-b537-3d645962304c"
      },
      "outputs": [
        {
          "output_type": "stream",
          "name": "stdout",
          "text": [
            "Model: \"sequential\"\n",
            "_________________________________________________________________\n",
            " Layer (type)                Output Shape              Param #   \n",
            "=================================================================\n",
            " dense (Dense)               (None, 32)                352       \n",
            "                                                                 \n",
            " dense_1 (Dense)             (None, 1)                 33        \n",
            "                                                                 \n",
            "=================================================================\n",
            "Total params: 385\n",
            "Trainable params: 385\n",
            "Non-trainable params: 0\n",
            "_________________________________________________________________\n"
          ]
        }
      ],
      "source": [
        "from tensorflow import keras\n",
        "from keras.models import Sequential\n",
        "from keras.layers import Dense\n",
        "model=Sequential()\n",
        "model.add(Dense(32,activation='relu',input_dim=10))\n",
        "model.add(Dense(1,activation='sigmoid'))\n",
        "model.compile(optimizer='rmsprop',loss='binary_crossentropy',metrics=['accuracy'])\n",
        "model.summary()"
      ]
    },
    {
      "cell_type": "markdown",
      "source": [
        "隨機數字運算(無意義)<br>data所有資料<br>label正確資料"
      ],
      "metadata": {
        "id": "jDJOk7RR7O7q"
      }
    },
    {
      "cell_type": "code",
      "source": [
        "import numpy as np\n",
        "data=np.random.random((1000,10)) #隨機產生1000筆資料，每筆資料包含十個float數字\n",
        "label=np.random.randint(2,size=(1000,1)) #隨機產生1000筆資料，每筆資料上限為2(意思就是0 或 1)\n",
        "print(data[0:3])\n",
        "print(label[0:3])"
      ],
      "metadata": {
        "colab": {
          "base_uri": "https://localhost:8080/"
        },
        "id": "RkwJAHk3zhda",
        "outputId": "d58001cd-6958-4def-cadf-1a58ef267c60"
      },
      "execution_count": 2,
      "outputs": [
        {
          "output_type": "stream",
          "name": "stdout",
          "text": [
            "[[0.19046493 0.71946961 0.38901172 0.14418003 0.78982287 0.33419617\n",
            "  0.0374692  0.83408371 0.60727961 0.91343331]\n",
            " [0.5798433  0.50539758 0.17846169 0.31753097 0.98685595 0.49857112\n",
            "  0.20356446 0.30915495 0.16139148 0.92900808]\n",
            " [0.34966253 0.97965692 0.83309003 0.39466356 0.26612253 0.24753239\n",
            "  0.89530827 0.46021426 0.07612965 0.34454143]]\n",
            "[[0]\n",
            " [1]\n",
            " [1]]\n"
          ]
        }
      ]
    },
    {
      "cell_type": "markdown",
      "source": [
        "epochs運算次數<br>batch_size每次運算32個"
      ],
      "metadata": {
        "id": "EJ-jC3gc8mMr"
      }
    },
    {
      "cell_type": "code",
      "source": [
        "model.fit(data,label,epochs=10,batch_size=32)\n",
        "score=model.evaluate(data, label)\n",
        "print(score[1])"
      ],
      "metadata": {
        "colab": {
          "base_uri": "https://localhost:8080/"
        },
        "id": "C8CVV8KW0Ijz",
        "outputId": "7f74aaa3-8ed5-4574-d223-8ccea9eec4c5"
      },
      "execution_count": 4,
      "outputs": [
        {
          "output_type": "stream",
          "name": "stdout",
          "text": [
            "Epoch 1/10\n",
            "32/32 [==============================] - 0s 2ms/step - loss: 0.6911 - accuracy: 0.5160\n",
            "Epoch 2/10\n",
            "32/32 [==============================] - 0s 2ms/step - loss: 0.6907 - accuracy: 0.5360\n",
            "Epoch 3/10\n",
            "32/32 [==============================] - 0s 2ms/step - loss: 0.6904 - accuracy: 0.5290\n",
            "Epoch 4/10\n",
            "32/32 [==============================] - 0s 2ms/step - loss: 0.6899 - accuracy: 0.5210\n",
            "Epoch 5/10\n",
            "32/32 [==============================] - 0s 2ms/step - loss: 0.6897 - accuracy: 0.5160\n",
            "Epoch 6/10\n",
            "32/32 [==============================] - 0s 2ms/step - loss: 0.6896 - accuracy: 0.5270\n",
            "Epoch 7/10\n",
            "32/32 [==============================] - 0s 2ms/step - loss: 0.6888 - accuracy: 0.5260\n",
            "Epoch 8/10\n",
            "32/32 [==============================] - 0s 2ms/step - loss: 0.6889 - accuracy: 0.5260\n",
            "Epoch 9/10\n",
            "32/32 [==============================] - 0s 2ms/step - loss: 0.6888 - accuracy: 0.5270\n",
            "Epoch 10/10\n",
            "32/32 [==============================] - 0s 2ms/step - loss: 0.6885 - accuracy: 0.5370\n",
            "32/32 [==============================] - 0s 1ms/step - loss: 0.6874 - accuracy: 0.5350\n",
            "0.5350000262260437\n"
          ]
        }
      ]
    }
  ]
}