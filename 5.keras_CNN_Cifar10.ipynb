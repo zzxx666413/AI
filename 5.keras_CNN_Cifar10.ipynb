{
  "nbformat": 4,
  "nbformat_minor": 0,
  "metadata": {
    "colab": {
      "name": "5.keras_CNN_Cifar10.ipynb",
      "provenance": [],
      "collapsed_sections": [],
      "include_colab_link": true
    },
    "kernelspec": {
      "name": "python3",
      "display_name": "Python 3"
    },
    "language_info": {
      "name": "python"
    },
    "accelerator": "GPU"
  },
  "cells": [
    {
      "cell_type": "markdown",
      "metadata": {
        "id": "view-in-github",
        "colab_type": "text"
      },
      "source": [
        "<a href=\"https://colab.research.google.com/github/zzxx666413/AI/blob/main/5.keras_CNN_Cifar10.ipynb\" target=\"_parent\"><img src=\"https://colab.research.google.com/assets/colab-badge.svg\" alt=\"Open In Colab\"/></a>"
      ]
    },
    {
      "cell_type": "markdown",
      "source": [
        "input_shape=(32, 32, 3) 多了RGB，彩色，最後一個是3 <br>\n",
        "這比較複雜，做兩次Conv2D"
      ],
      "metadata": {
        "id": "2wg9jX5WXq2Z"
      }
    },
    {
      "cell_type": "code",
      "source": [
        "from tensorflow import keras\n",
        "from keras.models import Sequential\n",
        "from keras.layers import Dense, Conv2D, MaxPooling2D, Flatten\n",
        "model=Sequential()\n",
        "model.add(Conv2D(filters=64, kernel_size=(5, 5), input_shape=(32, 32, 3), activation='relu'))\n",
        "model.add(Conv2D(filters=64, kernel_size=(5, 5), activation='relu'))\n",
        "model.add(MaxPooling2D(pool_size=2))\n",
        "model.add(Conv2D(filters=128, kernel_size=(5, 5), activation='relu'))\n",
        "model.add(Conv2D(filters=128, kernel_size=(5, 5), activation='relu'))\n",
        "model.add(MaxPooling2D(pool_size=2))\n",
        "model.add(Flatten())\n",
        "model.add(Dense(10, activation='softmax'))\n",
        "model.summary()\n",
        "model.compile(optimizer='rmsprop', loss='categorical_crossentropy', metrics=['accuracy'])"
      ],
      "metadata": {
        "colab": {
          "base_uri": "https://localhost:8080/"
        },
        "id": "LQ_HZ-tK8L-C",
        "outputId": "176cef7d-efc2-46b2-e208-ff725af88659"
      },
      "execution_count": 1,
      "outputs": [
        {
          "output_type": "stream",
          "name": "stdout",
          "text": [
            "Model: \"sequential\"\n",
            "_________________________________________________________________\n",
            " Layer (type)                Output Shape              Param #   \n",
            "=================================================================\n",
            " conv2d (Conv2D)             (None, 28, 28, 64)        4864      \n",
            "                                                                 \n",
            " conv2d_1 (Conv2D)           (None, 24, 24, 64)        102464    \n",
            "                                                                 \n",
            " max_pooling2d (MaxPooling2D  (None, 12, 12, 64)       0         \n",
            " )                                                               \n",
            "                                                                 \n",
            " conv2d_2 (Conv2D)           (None, 8, 8, 128)         204928    \n",
            "                                                                 \n",
            " conv2d_3 (Conv2D)           (None, 4, 4, 128)         409728    \n",
            "                                                                 \n",
            " max_pooling2d_1 (MaxPooling  (None, 2, 2, 128)        0         \n",
            " 2D)                                                             \n",
            "                                                                 \n",
            " flatten (Flatten)           (None, 512)               0         \n",
            "                                                                 \n",
            " dense (Dense)               (None, 10)                5130      \n",
            "                                                                 \n",
            "=================================================================\n",
            "Total params: 727,114\n",
            "Trainable params: 727,114\n",
            "Non-trainable params: 0\n",
            "_________________________________________________________________\n"
          ]
        }
      ]
    },
    {
      "cell_type": "markdown",
      "source": [
        "把cifar10讀進來"
      ],
      "metadata": {
        "id": "2ForazpVYa-r"
      }
    },
    {
      "cell_type": "code",
      "source": [
        "cifar10=keras.datasets.cifar10\n",
        "(train_data, train_label), (test_data, test_label) = cifar10.load_data()\n",
        "train_label_original=train_label\n",
        "train_label = keras.utils.to_categorical(train_label)\n",
        "test_label = keras.utils.to_categorical(test_label)"
      ],
      "metadata": {
        "id": "4eM5EOSr4DLB",
        "colab": {
          "base_uri": "https://localhost:8080/"
        },
        "outputId": "ebfc6bde-34d7-46fd-c8a6-8c39cb2dbb1b"
      },
      "execution_count": 2,
      "outputs": [
        {
          "output_type": "stream",
          "name": "stdout",
          "text": [
            "Downloading data from https://www.cs.toronto.edu/~kriz/cifar-10-python.tar.gz\n",
            "170500096/170498071 [==============================] - 3s 0us/step\n",
            "170508288/170498071 [==============================] - 3s 0us/step\n"
          ]
        }
      ]
    },
    {
      "cell_type": "markdown",
      "source": [
        "畫出這張圖"
      ],
      "metadata": {
        "id": "I0K4H6WQYio9"
      }
    },
    {
      "cell_type": "code",
      "source": [
        "import matplotlib.pyplot as plt\n",
        "category=['airplane','automobile','bird','cat','deer','dog','frog','horse','ship','truck']\n",
        "plt.imshow(train_data[0])\n",
        "plt.title(category[int(train_label_original[0])])\n",
        "plt.show()\n",
        "print(train_label_original[0])"
      ],
      "metadata": {
        "colab": {
          "base_uri": "https://localhost:8080/",
          "height": 298
        },
        "id": "4j8cPTbDahQr",
        "outputId": "9790aa3a-011e-4ffb-e0db-bf625c114c8b"
      },
      "execution_count": 3,
      "outputs": [
        {
          "output_type": "display_data",
          "data": {
            "text/plain": [
              "<Figure size 432x288 with 1 Axes>"
            ],
            "image/png": "[encoded data removed]"
          },
          "metadata": {
            "needs_background": "light"
          }
        },
        {
          "output_type": "stream",
          "name": "stdout",
          "text": [
            "[6]\n"
          ]
        }
      ]
    },
    {
      "cell_type": "code",
      "source": [
        "train_history=model.fit(train_data,train_label,epochs=30,batch_size=512)\n"
      ],
      "metadata": {
        "id": "UFCQb8bgy3nU",
        "colab": {
          "base_uri": "https://localhost:8080/"
        },
        "outputId": "6a792788-60e4-4544-98a7-185985c00814"
      },
      "execution_count": 4,
      "outputs": [
        {
          "output_type": "stream",
          "name": "stdout",
          "text": [
            "Epoch 1/30\n",
            "98/98 [==============================] - 24s 99ms/step - loss: 14.5666 - accuracy: 0.1712\n",
            "Epoch 2/30\n",
            "98/98 [==============================] - 9s 88ms/step - loss: 2.3780 - accuracy: 0.1958\n",
            "Epoch 3/30\n",
            "98/98 [==============================] - 9s 89ms/step - loss: 2.2063 - accuracy: 0.2601\n",
            "Epoch 4/30\n",
            "98/98 [==============================] - 9s 89ms/step - loss: 1.9982 - accuracy: 0.3059\n",
            "Epoch 5/30\n",
            "98/98 [==============================] - 9s 90ms/step - loss: 1.7951 - accuracy: 0.3817\n",
            "Epoch 6/30\n",
            "98/98 [==============================] - 9s 89ms/step - loss: 1.6491 - accuracy: 0.4326\n",
            "Epoch 7/30\n",
            "98/98 [==============================] - 9s 89ms/step - loss: 1.5441 - accuracy: 0.4677\n",
            "Epoch 8/30\n",
            "98/98 [==============================] - 9s 90ms/step - loss: 1.5460 - accuracy: 0.4776\n",
            "Epoch 9/30\n",
            "98/98 [==============================] - 9s 88ms/step - loss: 1.3562 - accuracy: 0.5362\n",
            "Epoch 10/30\n",
            "98/98 [==============================] - 9s 89ms/step - loss: 1.2340 - accuracy: 0.5771\n",
            "Epoch 11/30\n",
            "98/98 [==============================] - 9s 89ms/step - loss: 1.1222 - accuracy: 0.6183\n",
            "Epoch 12/30\n",
            "98/98 [==============================] - 9s 89ms/step - loss: 1.0096 - accuracy: 0.6547\n",
            "Epoch 13/30\n",
            "98/98 [==============================] - 9s 90ms/step - loss: 0.9098 - accuracy: 0.6914\n",
            "Epoch 14/30\n",
            "98/98 [==============================] - 9s 89ms/step - loss: 0.8329 - accuracy: 0.7177\n",
            "Epoch 15/30\n",
            "98/98 [==============================] - 9s 89ms/step - loss: 0.7226 - accuracy: 0.7544\n",
            "Epoch 16/30\n",
            "98/98 [==============================] - 9s 88ms/step - loss: 0.6579 - accuracy: 0.7770\n",
            "Epoch 17/30\n",
            "98/98 [==============================] - 9s 89ms/step - loss: 0.5551 - accuracy: 0.8110\n",
            "Epoch 18/30\n",
            "98/98 [==============================] - 9s 89ms/step - loss: 0.4864 - accuracy: 0.8359\n",
            "Epoch 19/30\n",
            "98/98 [==============================] - 9s 89ms/step - loss: 0.4322 - accuracy: 0.8552\n",
            "Epoch 20/30\n",
            "98/98 [==============================] - 9s 89ms/step - loss: 0.3881 - accuracy: 0.8703\n",
            "Epoch 21/30\n",
            "98/98 [==============================] - 9s 89ms/step - loss: 0.3417 - accuracy: 0.8878\n",
            "Epoch 22/30\n",
            "98/98 [==============================] - 9s 89ms/step - loss: 0.3064 - accuracy: 0.9007\n",
            "Epoch 23/30\n",
            "98/98 [==============================] - 9s 89ms/step - loss: 0.2999 - accuracy: 0.9058\n",
            "Epoch 24/30\n",
            "98/98 [==============================] - 9s 89ms/step - loss: 0.2657 - accuracy: 0.9190\n",
            "Epoch 25/30\n",
            "98/98 [==============================] - 9s 89ms/step - loss: 0.2806 - accuracy: 0.9150\n",
            "Epoch 26/30\n",
            "98/98 [==============================] - 9s 89ms/step - loss: 0.2408 - accuracy: 0.9274\n",
            "Epoch 27/30\n",
            "98/98 [==============================] - 9s 89ms/step - loss: 0.2432 - accuracy: 0.9282\n",
            "Epoch 28/30\n",
            "98/98 [==============================] - 9s 89ms/step - loss: 0.2104 - accuracy: 0.9358\n",
            "Epoch 29/30\n",
            "98/98 [==============================] - 9s 89ms/step - loss: 0.2040 - accuracy: 0.9388\n",
            "Epoch 30/30\n",
            "98/98 [==============================] - 9s 88ms/step - loss: 0.2174 - accuracy: 0.9382\n"
          ]
        }
      ]
    },
    {
      "cell_type": "markdown",
      "source": [
        "測試資料正確性"
      ],
      "metadata": {
        "id": "3ZS3-dKWY4L0"
      }
    },
    {
      "cell_type": "code",
      "source": [
        "score=model.evaluate(test_data, test_label)\n",
        "print(score[1])"
      ],
      "metadata": {
        "id": "SC2VW7yl87F-",
        "colab": {
          "base_uri": "https://localhost:8080/"
        },
        "outputId": "90971918-aaac-4b78-f79b-116d1cfd5e09"
      },
      "execution_count": 5,
      "outputs": [
        {
          "output_type": "stream",
          "name": "stdout",
          "text": [
            "313/313 [==============================] - 3s 8ms/step - loss: 3.2533 - accuracy: 0.6010\n",
            "0.6010000109672546\n"
          ]
        }
      ]
    },
    {
      "cell_type": "code",
      "source": [
        "#繪製正確性與損失歷史圖\n",
        "import matplotlib.pyplot as plt\n",
        "import numpy as np\n",
        "\n",
        "def show_train_history(train_history, train):\n",
        "    plt.plot(train_history.history[train])\n",
        "    plt.title('Train History')\n",
        "    plt.ylabel(train)\n",
        "    plt.xlabel('Epoch')\n",
        "    plt.legend(['train'], loc='center right')\n",
        "    plt.show()\n",
        "\n",
        "show_train_history(train_history, 'accuracy')\n",
        "show_train_history(train_history, 'loss')"
      ],
      "metadata": {
        "colab": {
          "base_uri": "https://localhost:8080/",
          "height": 573
        },
        "id": "YycOQ_auS_1s",
        "outputId": "518cb545-cba9-4225-b3c5-5852b11907c6"
      },
      "execution_count": 6,
      "outputs": [
        {
          "output_type": "display_data",
          "data": {
            "text/plain": [
              "<Figure size 432x288 with 1 Axes>"
            ],
            "image/png": "[encoded data removed]"
          },
          "metadata": {
            "needs_background": "light"
          }
        },
        {
          "output_type": "display_data",
          "data": {
            "text/plain": [
              "<Figure size 432x288 with 1 Axes>"
            ],
            "image/png": "[encoded data removed]"
          },
          "metadata": {
            "needs_background": "light"
          }
        }
      ]
    }
  ]
}